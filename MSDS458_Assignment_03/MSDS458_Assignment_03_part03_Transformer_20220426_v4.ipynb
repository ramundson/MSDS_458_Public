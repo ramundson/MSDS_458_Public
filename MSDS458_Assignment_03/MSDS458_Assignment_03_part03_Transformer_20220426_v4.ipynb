{
 "cells": [
  {
   "cell_type": "markdown",
   "metadata": {
    "id": "eYLKJ1LZmJZT"
   },
   "source": [
    "<img src=\"https://github.com/djp840/MSDS_458_Public/blob/master/images/NorthwesternHeader.png?raw=1\">"
   ]
  },
  {
   "cell_type": "markdown",
   "metadata": {
    "id": "yUwiDnKQmJZb"
   },
   "source": [
    "### Analyze AG_NEWS_SUBSET Data <br>\n",
    "\n",
    "AG is a collection of more than 1 million news articles. News articles have been gathered from more than 2000 news sources by ComeToMyHead in more than 1 year of activity. ComeToMyHead is an academic news search engine which has been running since July, 2004. The dataset is provided by the academic comunity for research purposes in data mining (clustering, classification, etc), information retrieval (ranking, search, etc), xml, data compression, data streaming, and any other non-commercial activity.<br> \n",
    "\n",
    "For more information, please refer to the link http://www.di.unipi.it/~gulli/AG_corpus_of_news_articles.html<br> \n",
    "\n",
    "\n",
    "The AG's news topic classification dataset is constructed by choosing 4 largest classes (**World**, **Sports**, **Business**, and **Sci/Tech**) from the original corpus. Each class contains 30,000 training samples and 1,900 testing samples. The total number of training samples is 120,000 and testing 7,600.<br>\n",
    "\n",
    "Homepage: https://arxiv.org/abs/1509.01626<br>\n",
    "\n",
    "Source code: tfds.text.AGNewsSubset\n",
    "\n",
    "Versions:\n",
    "\n",
    "1.0.0 (default): No release notes.\n",
    "Download size: 11.24 MiB\n",
    "\n",
    "Dataset size: 35.79 MiB"
   ]
  },
  {
   "cell_type": "markdown",
   "metadata": {
    "id": "Jyg3hsjLmJZd"
   },
   "source": [
    "## References\n",
    "1. Deep Learning with Python, Francois Chollet (https://learning.oreilly.com/library/view/deep-learning-with/9781617296864/)\n",
    " * Chapter 10: Deep learning for time series\n",
    " * Chapter 11: Deep learning for text\n",
    "2. Deep Learning A Visual Approach, Andrew Glassner (https://learning.oreilly.com/library/view/deep-learning/9781098129019/)\n",
    " * Chapter 19: Recurrent Neural Networks\n",
    " * Chapter 20: Attention and Transformers"
   ]
  },
  {
   "cell_type": "markdown",
   "metadata": {
    "id": "Ir9xKmjEmJZe"
   },
   "source": [
    "## The Transformer Architecture"
   ]
  },
  {
   "cell_type": "markdown",
   "metadata": {
    "id": "yfccUEzfmJZe"
   },
   "source": [
    "## Understanding Self-Attention"
   ]
  },
  {
   "cell_type": "markdown",
   "metadata": {
    "id": "P2bD03q0mJZf"
   },
   "source": [
    "<img src=\"https://github.com/djp840/MSDS_458_Public/blob/master/images/SelfAttention.png?raw=1\">"
   ]
  },
  {
   "cell_type": "markdown",
   "metadata": {
    "id": "MpM0ncXJmJZf"
   },
   "source": [
    "<img src=\"https://github.com/djp840/MSDS_458_Public/blob/master/images/DogAte.png?raw=1\">"
   ]
  },
  {
   "cell_type": "markdown",
   "metadata": {
    "id": "Yf-7KKzWmJZg"
   },
   "source": [
    "<img src=\"https://github.com/djp840/MSDS_458_Public/blob/master/images/InputOutput.png?raw=1\">"
   ]
  },
  {
   "cell_type": "markdown",
   "metadata": {
    "id": "u2-0mq4EmJZh"
   },
   "source": [
    "## Generalized Self-Attention: The Query-Key-Value Model"
   ]
  },
  {
   "cell_type": "markdown",
   "metadata": {
    "id": "-Dpn42iOmJZi"
   },
   "source": [
    "#### Retrieving images from a database: the “query” is compared to a set of “keys,” and the match scores are used to rank “values” (images).\n",
    "\n",
    "<img src=\"https://github.com/djp840/MSDS_458_Public/blob/master/images/DogsBeach.png?raw=1\">"
   ]
  },
  {
   "cell_type": "markdown",
   "metadata": {
    "id": "MZMx9VAcmJZj"
   },
   "source": [
    "## Multi-Head Attention"
   ]
  },
  {
   "cell_type": "markdown",
   "metadata": {
    "id": "AteVsVIpmJZj"
   },
   "source": [
    "<img src=\"https://github.com/djp840/MSDS_458_Public/blob/master/images/MultiHead.png?raw=1\">"
   ]
  },
  {
   "cell_type": "markdown",
   "metadata": {
    "id": "xfJGIx4EmJZj"
   },
   "source": [
    "## Import Packages"
   ]
  },
  {
   "cell_type": "code",
   "execution_count": 1,
   "metadata": {
    "id": "gnF865oHmJZk"
   },
   "outputs": [],
   "source": [
    "import re\n",
    "import string\n",
    "from packaging import version\n",
    "import tensorflow as tf\n",
    "import tensorflow_datasets as tfds\n",
    "from tensorflow.keras import layers\n",
    "from tensorflow import keras"
   ]
  },
  {
   "cell_type": "markdown",
   "metadata": {
    "id": "8SO5DzBCmJZm"
   },
   "source": [
    "## Verify TensorFlow Version and Keras Version"
   ]
  },
  {
   "cell_type": "code",
   "execution_count": 2,
   "metadata": {
    "colab": {
     "base_uri": "https://localhost:8080/"
    },
    "id": "wMmbJHDImJZm",
    "outputId": "99c2c81b-cd5b-491c-f526-f34b177bc8fa"
   },
   "outputs": [
    {
     "name": "stdout",
     "output_type": "stream",
     "text": [
      "This notebook requires TensorFlow 2.0 or above\n",
      "TensorFlow version:  2.8.0\n"
     ]
    }
   ],
   "source": [
    "print(\"This notebook requires TensorFlow 2.0 or above\")\n",
    "print(\"TensorFlow version: \", tf.__version__)\n",
    "assert version.parse(tf.__version__).release[0] >=2"
   ]
  },
  {
   "cell_type": "code",
   "execution_count": 3,
   "metadata": {
    "colab": {
     "base_uri": "https://localhost:8080/"
    },
    "id": "h1HcGXWoDRDP",
    "outputId": "d7c77bd0-efe8-4ea2-d25d-fc4f597ba179"
   },
   "outputs": [
    {
     "name": "stdout",
     "output_type": "stream",
     "text": [
      "Keras version:  2.8.0\n"
     ]
    }
   ],
   "source": [
    "print(\"Keras version: \", keras.__version__)"
   ]
  },
  {
   "cell_type": "markdown",
   "metadata": {
    "id": "lwu_R0PxDRDQ"
   },
   "source": [
    "## Mount Google Drive to Colab Environment"
   ]
  },
  {
   "cell_type": "code",
   "execution_count": 4,
   "metadata": {
    "id": "8-hkaU_TDRDQ"
   },
   "outputs": [],
   "source": [
    "# from google.colab import drive\n",
    "# drive.mount('/content/gdrive')"
   ]
  },
  {
   "cell_type": "markdown",
   "metadata": {
    "id": "Ffs4EljMmJZm"
   },
   "source": [
    "## The Transformer Encoder"
   ]
  },
  {
   "cell_type": "markdown",
   "metadata": {
    "id": "4VSZ6gB_mJZn"
   },
   "source": [
    "## Load Data"
   ]
  },
  {
   "cell_type": "code",
   "execution_count": 5,
   "metadata": {
    "colab": {
     "base_uri": "https://localhost:8080/"
    },
    "id": "pl0z_01vmJZn",
    "outputId": "afb277f9-eb8f-4298-892a-b9442a3d05ef"
   },
   "outputs": [
    {
     "name": "stdout",
     "output_type": "stream",
     "text": [
      "I0426 18:11:32.754151 139855582869376 download_and_prepare.py:200] Running download_and_prepare for dataset(s):\n",
      "ag_news_subset\n",
      "2022-04-26 18:11:32.960419: W tensorflow/core/platform/cloud/google_auth_provider.cc:184] All attempts to get a Google authentication bearer token failed, returning an empty token. Retrieving token from files failed with \"NOT_FOUND: Could not locate the credentials file.\". Retrieving token from GCE failed with \"NOT_FOUND: Error executing an HTTP request: HTTP response code 404\".\n",
      "I0426 18:11:33.354961 139855582869376 dataset_info.py:434] Load pre-computed DatasetInfo (eg: splits, num examples,...) from GCS: ag_news_subset/1.0.0\n",
      "I0426 18:11:34.044365 139855582869376 dataset_info.py:361] Load dataset info from /tmp/tmp2l49c9tstfds\n",
      "I0426 18:11:34.046195 139855582869376 download_and_prepare.py:138] download_and_prepare for dataset ag_news_subset/1.0.0...\n",
      "I0426 18:11:34.046568 139855582869376 dataset_builder.py:357] Generating dataset ag_news_subset (/root/tensorflow_datasets/ag_news_subset/1.0.0)\n",
      "\u001b[1mDownloading and preparing dataset ag_news_subset/1.0.0 (download: 11.24 MiB, generated: 35.79 MiB, total: 47.03 MiB) to /root/tensorflow_datasets/ag_news_subset/1.0.0...\u001b[0m\n",
      "Dl Completed...: 0 url [00:00, ? url/s]\n",
      "Dl Size...: 0 MiB [00:00, ? MiB/s]\u001b[A\n",
      "\n",
      "Extraction completed...: 0 file [00:00, ? file/s]\u001b[A\u001b[AI0426 18:11:34.439812 139855582869376 download_manager.py:476] Downloading https://drive.google.com/uc?export=download&id=0Bz8a_Dbh9QhbUDNpeUdjb0wxRms into /root/tensorflow_datasets/downloads/ucexport_download_id_0Bz8a_Dbh9QhbUDNpeUdjb0wxj4g1umFAV8OV-uDwxSJR0LdxO_k1jxMuFWwAfNX9jos.tmp.511c2b2adbc54685bc61a01db5c4f3a2...\n",
      "Dl Completed...:   0% 0/1 [00:00<?, ? url/s]\n",
      "Dl Size...: 0 MiB [00:00, ? MiB/s]\u001b[A\n",
      "\n",
      "Dl Completed...:   0% 0/1 [00:16<?, ? url/s]\n",
      "Dl Size...:   0% 0/11 [00:16<?, ? MiB/s]\u001b[A\n",
      "\n",
      "Extraction completed...: 0 file [00:16, ? file/s]\u001b[A\u001b[A\n",
      "Dl Completed...:   0% 0/1 [00:16<?, ? url/s]\n",
      "Dl Size...:   9% 1/11 [00:16<02:49, 16.99s/ MiB]\u001b[A\n",
      "\n",
      "Dl Completed...:   0% 0/1 [00:16<?, ? url/s]\n",
      "Dl Size...:  18% 2/11 [00:16<02:32, 16.99s/ MiB]\u001b[A\n",
      "\n",
      "Dl Completed...:   0% 0/1 [00:17<?, ? url/s]\n",
      "Dl Size...:  27% 3/11 [00:17<02:15, 16.99s/ MiB]\u001b[A\n",
      "\n",
      "Dl Completed...:   0% 0/1 [00:17<?, ? url/s]\n",
      "Dl Size...:  36% 4/11 [00:17<01:58, 16.99s/ MiB]\u001b[A\n",
      "\n",
      "Dl Completed...:   0% 0/1 [00:17<?, ? url/s]\n",
      "Dl Size...:  45% 5/11 [00:17<01:41, 16.99s/ MiB]\u001b[A\n",
      "\n",
      "Dl Completed...:   0% 0/1 [00:17<?, ? url/s]\n",
      "Dl Size...:  55% 6/11 [00:17<01:24, 16.99s/ MiB]\u001b[A\n",
      "\n",
      "Dl Completed...:   0% 0/1 [00:17<?, ? url/s]\n",
      "Dl Size...:  64% 7/11 [00:17<01:07, 16.99s/ MiB]\u001b[A\n",
      "\n",
      "Dl Completed...:   0% 0/1 [00:17<?, ? url/s]\n",
      "Dl Size...:  73% 8/11 [00:17<00:50, 16.99s/ MiB]\u001b[A\n",
      "\n",
      "Dl Completed...:   0% 0/1 [00:17<?, ? url/s]\n",
      "Dl Size...:  82% 9/11 [00:17<00:33, 16.99s/ MiB]\u001b[A\n",
      "\n",
      "Dl Completed...:   0% 0/1 [00:17<?, ? url/s]\n",
      "Dl Size...:  91% 10/11 [00:17<00:16, 16.99s/ MiB]\u001b[A\n",
      "\n",
      "Dl Completed...:   0% 0/1 [00:17<?, ? url/s]\n",
      "Dl Size...: 100% 11/11 [00:17<00:00, 16.99s/ MiB]\u001b[A\n",
      "\n",
      "Dl Completed...: 100% 1/1 [00:17<00:00, 17.06s/ url]\n",
      "Dl Size...: 100% 11/11 [00:17<00:00, 16.99s/ MiB]\u001b[A\n",
      "\n",
      "Dl Completed...: 100% 1/1 [00:17<00:00, 17.06s/ url]\n",
      "Dl Size...: 100% 11/11 [00:17<00:00, 16.99s/ MiB]\u001b[A\n",
      "\n",
      "Extraction completed...:   0% 0/1 [00:17<?, ? file/s]\u001b[A\u001b[A\n",
      "\n",
      "Dl Completed...: 100% 1/1 [00:17<00:00, 17.06s/ url]\n",
      "Dl Size...: 100% 11/11 [00:17<00:00, 16.99s/ MiB]\u001b[A\n",
      "\n",
      "Extraction completed...: 100% 1/1 [00:17<00:00, 17.36s/ file]\u001b[A\u001b[A\n",
      "Extraction completed...: 100% 1/1 [00:17<00:00, 17.36s/ file]\n",
      "\n",
      "Dl Size...: 100% 11/11 [00:17<00:00,  1.58s/ MiB]\n",
      "\n",
      "Dl Completed...: 100% 1/1 [00:17<00:00, 17.36s/ url]\n",
      "I0426 18:11:51.803452 139855582869376 dataset_builder.py:970] Generating split train\n",
      "Shuffling and writing examples to /root/tensorflow_datasets/ag_news_subset/1.0.0.incompleteMSMOLU/ag_news_subset-train.tfrecord\n",
      " 95% 113557/120000 [00:00<00:00, 433837.51 examples/s]I0426 18:12:11.938052 139855582869376 tfrecords_writer.py:226] Done writing /root/tensorflow_datasets/ag_news_subset/1.0.0.incompleteMSMOLU/ag_news_subset-train.tfrecord. Shard lengths: [120000]\n",
      "I0426 18:12:11.950048 139855582869376 dataset_builder.py:970] Generating split test\n",
      "Shuffling and writing examples to /root/tensorflow_datasets/ag_news_subset/1.0.0.incompleteMSMOLU/ag_news_subset-test.tfrecord\n",
      "  0% 0/7600 [00:00<?, ? examples/s]I0426 18:12:13.185326 139855582869376 tfrecords_writer.py:226] Done writing /root/tensorflow_datasets/ag_news_subset/1.0.0.incompleteMSMOLU/ag_news_subset-test.tfrecord. Shard lengths: [7600]\n",
      "I0426 18:12:13.187041 139855582869376 dataset_builder.py:412] Skipping computing stats for mode ComputeStatsMode.SKIP.\n",
      "\u001b[1mDataset ag_news_subset downloaded and prepared to /root/tensorflow_datasets/ag_news_subset/1.0.0. Subsequent calls will reuse this data.\u001b[0m\n",
      "\u001b[1mname: \"ag_news_subset\"\n",
      "description: \"AG is a collection of more than 1 million news articles.\\nNews articles have been gathered from more than 2000  news sources by ComeToMyHead in more than 1 year of activity.\\nComeToMyHead is an academic news search engine which has been running since July, 2004.\\nThe dataset is provided by the academic comunity for research purposes in data mining (clustering, classification, etc),\\ninformation retrieval (ranking, search, etc), xml, data compression, data streaming,\\nand any other non-commercial activity.\\nFor more information, please refer to the link http://www.di.unipi.it/~gulli/AG_corpus_of_news_articles.html .\\n\\nThe AG\\'s news topic classification dataset is constructed by Xiang Zhang (xiang.zhang@nyu.edu) from the dataset above.\\nIt is used as a text classification benchmark in the following paper:\\nXiang Zhang, Junbo Zhao, Yann LeCun. Character-level Convolutional Networks for Text Classification. Advances in Neural Information Processing Systems 28 (NIPS 2015).\\n\\nThe AG\\'s news topic classification dataset is constructed by choosing 4 largest classes from the original corpus.\\nEach class contains 30,000 training samples and 1,900 testing samples.\\nThe total number of training samples is 120,000 and testing 7,600.\"\n",
      "citation: \"@misc{zhang2015characterlevel,\\n    title={Character-level Convolutional Networks for Text Classification},\\n    author={Xiang Zhang and Junbo Zhao and Yann LeCun},\\n    year={2015},\\n    eprint={1509.01626},\\n    archivePrefix={arXiv},\\n    primaryClass={cs.LG}\\n}\"\n",
      "location {\n",
      "  urls: \"https://arxiv.org/abs/1509.01626\"\n",
      "}\n",
      "splits {\n",
      "  name: \"test\"\n",
      "  shard_lengths: 7600\n",
      "  num_bytes: 2226751\n",
      "}\n",
      "splits {\n",
      "  name: \"train\"\n",
      "  shard_lengths: 120000\n",
      "  num_bytes: 35301386\n",
      "}\n",
      "supervised_keys {\n",
      "  input: \"description\"\n",
      "  output: \"label\"\n",
      "}\n",
      "version: \"1.0.0\"\n",
      "download_size: 11784327\n",
      "\u001b[0m\n"
     ]
    }
   ],
   "source": [
    "# register  ag_news_subset so that tfds.load doesn't generate a checksum (mismatch) error\n",
    "!python -m tensorflow_datasets.scripts.download_and_prepare --register_checksums --datasets=ag_news_subset\n",
    "\n",
    "dataset, info = tfds.load('ag_news_subset', with_info=True,  split=['train[:95%]','train[95%:]', 'test'],batch_size = 32, as_supervised=True)\n",
    "train_ds, val_ds, test_ds = dataset"
   ]
  },
  {
   "cell_type": "markdown",
   "metadata": {
    "id": "h-3qpx9ZmJZo"
   },
   "source": [
    "## Preparing Text Data"
   ]
  },
  {
   "cell_type": "code",
   "execution_count": 6,
   "metadata": {
    "id": "p2_CEJjimJZp"
   },
   "outputs": [],
   "source": [
    "text_only_train_ds = train_ds.map(lambda x, y: x)"
   ]
  },
  {
   "cell_type": "markdown",
   "metadata": {
    "id": "ytPi4XCImJZp"
   },
   "source": [
    "## Vectorizing Data"
   ]
  },
  {
   "cell_type": "code",
   "execution_count": 7,
   "metadata": {
    "id": "l-DVBPWGmJZp"
   },
   "outputs": [],
   "source": [
    "max_length = 52\n",
    "max_tokens = 1000\n",
    "text_vectorization = layers.TextVectorization(\n",
    "    max_tokens=max_tokens,\n",
    "    output_mode=\"int\",\n",
    "    output_sequence_length=max_length,\n",
    ")\n",
    "text_vectorization.adapt(text_only_train_ds)\n",
    "\n",
    "int_train_ds = train_ds.map(\n",
    "    lambda x, y: (text_vectorization(x), y),\n",
    "    num_parallel_calls=4)\n",
    "int_val_ds = val_ds.map(\n",
    "    lambda x, y: (text_vectorization(x), y),\n",
    "    num_parallel_calls=4)\n",
    "int_test_ds = test_ds.map(\n",
    "    lambda x, y: (text_vectorization(x), y),\n",
    "    num_parallel_calls=4)"
   ]
  },
  {
   "cell_type": "markdown",
   "metadata": {
    "id": "yPVABV8vmJZq"
   },
   "source": [
    "## Transformer Encoder Implemented As Subclassed `Layer`"
   ]
  },
  {
   "cell_type": "code",
   "execution_count": 8,
   "metadata": {
    "id": "OscOAvHfmJZq"
   },
   "outputs": [],
   "source": [
    "class TransformerEncoder(layers.Layer):\n",
    "    def __init__(self, embed_dim, dense_dim, num_heads, **kwargs):\n",
    "        super().__init__(**kwargs)\n",
    "        self.embed_dim = embed_dim\n",
    "        self.dense_dim = dense_dim\n",
    "        self.num_heads = num_heads\n",
    "        self.attention = layers.MultiHeadAttention(\n",
    "            num_heads=num_heads, key_dim=embed_dim)\n",
    "        self.dense_proj = keras.Sequential(\n",
    "            [layers.Dense(dense_dim, activation=\"relu\"),\n",
    "             layers.Dense(embed_dim),]\n",
    "        )\n",
    "        self.layernorm_1 = layers.LayerNormalization()\n",
    "        self.layernorm_2 = layers.LayerNormalization()\n",
    "\n",
    "    def call(self, inputs, mask=None):\n",
    "        if mask is not None:\n",
    "            mask = mask[:, tf.newaxis, :]\n",
    "        attention_output = self.attention(\n",
    "            inputs, inputs, attention_mask=mask)\n",
    "        proj_input = self.layernorm_1(inputs + attention_output)\n",
    "        proj_output = self.dense_proj(proj_input)\n",
    "        return self.layernorm_2(proj_input + proj_output)\n",
    "\n",
    "    def get_config(self):\n",
    "        config = super().get_config()\n",
    "        config.update({\n",
    "            \"embed_dim\": self.embed_dim,\n",
    "            \"num_heads\": self.num_heads,\n",
    "            \"dense_dim\": self.dense_dim,\n",
    "        })\n",
    "        return config"
   ]
  },
  {
   "cell_type": "markdown",
   "metadata": {
    "id": "vtiaDM_nmJZq"
   },
   "source": [
    "<img src=\"https://github.com/djp840/MSDS_458_Public/blob/master/images/TransformerEncoder.png?raw=1\">"
   ]
  },
  {
   "cell_type": "markdown",
   "metadata": {
    "id": "KQNlcHvpmJZr"
   },
   "source": [
    "## Using Transformer Encoder For Text Classification"
   ]
  },
  {
   "cell_type": "code",
   "execution_count": 9,
   "metadata": {
    "colab": {
     "base_uri": "https://localhost:8080/"
    },
    "id": "KNKHwoBAmJZr",
    "outputId": "da3af17a-a58f-47ce-db71-a5d77c723834"
   },
   "outputs": [
    {
     "name": "stdout",
     "output_type": "stream",
     "text": [
      "Model: \"model\"\n",
      "_________________________________________________________________\n",
      " Layer (type)                Output Shape              Param #   \n",
      "=================================================================\n",
      " input_1 (InputLayer)        [(None, None)]            0         \n",
      "                                                                 \n",
      " embedding (Embedding)       (None, None, 256)         256000    \n",
      "                                                                 \n",
      " transformer_encoder (Transf  (None, None, 256)        543776    \n",
      " ormerEncoder)                                                   \n",
      "                                                                 \n",
      " global_max_pooling1d (Globa  (None, 256)              0         \n",
      " lMaxPooling1D)                                                  \n",
      "                                                                 \n",
      " dropout (Dropout)           (None, 256)               0         \n",
      "                                                                 \n",
      " dense_2 (Dense)             (None, 4)                 1028      \n",
      "                                                                 \n",
      "=================================================================\n",
      "Total params: 800,804\n",
      "Trainable params: 800,804\n",
      "Non-trainable params: 0\n",
      "_________________________________________________________________\n"
     ]
    }
   ],
   "source": [
    "vocab_size = 1000\n",
    "embed_dim = 256\n",
    "num_heads = 2\n",
    "dense_dim = 32\n",
    "\n",
    "inputs = keras.Input(shape=(None,), dtype=\"int64\")\n",
    "x = layers.Embedding(vocab_size, embed_dim)(inputs)\n",
    "x = TransformerEncoder(embed_dim, dense_dim, num_heads)(x)\n",
    "x = layers.GlobalMaxPooling1D()(x)\n",
    "x = layers.Dropout(0.5)(x)\n",
    "outputs = layers.Dense(4, activation=\"softmax\")(x)\n",
    "model = keras.Model(inputs, outputs)\n",
    "model.compile(optimizer=\"rmsprop\",\n",
    "              loss=\"SparseCategoricalCrossentropy\",\n",
    "              metrics=[\"accuracy\"])\n",
    "model.summary()"
   ]
  },
  {
   "cell_type": "markdown",
   "metadata": {
    "id": "DjpJFn52mJZr"
   },
   "source": [
    "## Training and Evaluating Transformer Encoder Based Model"
   ]
  },
  {
   "cell_type": "code",
   "execution_count": 11,
   "metadata": {
    "colab": {
     "base_uri": "https://localhost:8080/"
    },
    "id": "oJP3RBaBmJZr",
    "outputId": "7786b0e9-36bc-401f-c7b4-da538345459b"
   },
   "outputs": [
    {
     "name": "stdout",
     "output_type": "stream",
     "text": [
      "Epoch 1/200\n",
      "3563/3563 [==============================] - 31s 7ms/step - loss: 0.5174 - accuracy: 0.8153 - val_loss: 0.3996 - val_accuracy: 0.8552\n",
      "Epoch 2/200\n",
      "3563/3563 [==============================] - 24s 7ms/step - loss: 0.4180 - accuracy: 0.8518 - val_loss: 0.3897 - val_accuracy: 0.8598\n",
      "Epoch 3/200\n",
      "3563/3563 [==============================] - 25s 7ms/step - loss: 0.4009 - accuracy: 0.8569 - val_loss: 0.3837 - val_accuracy: 0.8637\n",
      "Epoch 4/200\n",
      "3563/3563 [==============================] - 24s 7ms/step - loss: 0.3910 - accuracy: 0.8598 - val_loss: 0.3820 - val_accuracy: 0.8648\n",
      "Epoch 5/200\n",
      "3563/3563 [==============================] - 24s 7ms/step - loss: 0.3832 - accuracy: 0.8637 - val_loss: 0.3868 - val_accuracy: 0.8613\n",
      "Epoch 6/200\n",
      "3563/3563 [==============================] - 24s 7ms/step - loss: 0.3769 - accuracy: 0.8661 - val_loss: 0.3967 - val_accuracy: 0.8618\n",
      "Epoch 7/200\n",
      "3563/3563 [==============================] - 25s 7ms/step - loss: 0.3723 - accuracy: 0.8684 - val_loss: 0.3973 - val_accuracy: 0.8535\n",
      "238/238 [==============================] - 1s 5ms/step - loss: 0.4045 - accuracy: 0.8538\n",
      "Test acc: 0.854\n"
     ]
    }
   ],
   "source": [
    "callbacks = [\n",
    "    keras.callbacks.ModelCheckpoint(\"transformer_encoder.keras\",save_best_only=True)\n",
    "    ,tf.keras.callbacks.EarlyStopping(monitor='val_accuracy', patience=3)\n",
    "    ]\n",
    "                                      \n",
    "model.fit(int_train_ds, validation_data=int_val_ds, epochs=200, callbacks=callbacks)\n",
    "model = keras.models.load_model(\n",
    "    \"transformer_encoder.keras\",\n",
    "    custom_objects={\"TransformerEncoder\": TransformerEncoder})\n",
    "print(f\"Test acc: {model.evaluate(int_test_ds)[1]:.3f}\")"
   ]
  },
  {
   "cell_type": "markdown",
   "metadata": {
    "id": "49CU5NhjmJZs"
   },
   "source": [
    "## Using Positional Encoding to Re-Inject Order Information"
   ]
  },
  {
   "cell_type": "markdown",
   "metadata": {
    "id": "6thjuXg1mJZs"
   },
   "source": [
    "## Implementing Positional Embedding As Subclassed Layer"
   ]
  },
  {
   "cell_type": "code",
   "execution_count": 12,
   "metadata": {
    "id": "wZ5-2z1WmJZs"
   },
   "outputs": [],
   "source": [
    "class PositionalEmbedding(layers.Layer):\n",
    "    def __init__(self, sequence_length, input_dim, output_dim, **kwargs):\n",
    "        super().__init__(**kwargs)\n",
    "        self.token_embeddings = layers.Embedding(\n",
    "            input_dim=input_dim, output_dim=output_dim)\n",
    "        self.position_embeddings = layers.Embedding(\n",
    "            input_dim=sequence_length, output_dim=output_dim)\n",
    "        self.sequence_length = sequence_length\n",
    "        self.input_dim = input_dim\n",
    "        self.output_dim = output_dim\n",
    "\n",
    "    def call(self, inputs):\n",
    "        length = tf.shape(inputs)[-1]\n",
    "        positions = tf.range(start=0, limit=length, delta=1)\n",
    "        embedded_tokens = self.token_embeddings(inputs)\n",
    "        embedded_positions = self.position_embeddings(positions)\n",
    "        return embedded_tokens + embedded_positions\n",
    "\n",
    "    def compute_mask(self, inputs, mask=None):\n",
    "        return tf.math.not_equal(inputs, 0)\n",
    "\n",
    "    def get_config(self):\n",
    "        config = super().get_config()\n",
    "        config.update({\n",
    "            \"output_dim\": self.output_dim,\n",
    "            \"sequence_length\": self.sequence_length,\n",
    "            \"input_dim\": self.input_dim,\n",
    "        })\n",
    "        return config"
   ]
  },
  {
   "cell_type": "markdown",
   "metadata": {
    "id": "iwekVVu5mJZt"
   },
   "source": [
    "## Putting it all together: A text-classification Transformer"
   ]
  },
  {
   "cell_type": "markdown",
   "metadata": {
    "id": "friLWNBzmJZt"
   },
   "source": [
    "## Combining Transformer Encoder with Positional Embedding"
   ]
  },
  {
   "cell_type": "code",
   "execution_count": 13,
   "metadata": {
    "colab": {
     "base_uri": "https://localhost:8080/"
    },
    "id": "IeVw84ygmJZt",
    "outputId": "9f704ae4-cd14-47b0-ed8f-3e88477d2d19"
   },
   "outputs": [
    {
     "name": "stdout",
     "output_type": "stream",
     "text": [
      "Model: \"model_1\"\n",
      "_________________________________________________________________\n",
      " Layer (type)                Output Shape              Param #   \n",
      "=================================================================\n",
      " input_2 (InputLayer)        [(None, None)]            0         \n",
      "                                                                 \n",
      " positional_embedding (Posit  (None, None, 256)        269312    \n",
      " ionalEmbedding)                                                 \n",
      "                                                                 \n",
      " transformer_encoder_1 (Tran  (None, None, 256)        543776    \n",
      " sformerEncoder)                                                 \n",
      "                                                                 \n",
      " global_max_pooling1d_1 (Glo  (None, 256)              0         \n",
      " balMaxPooling1D)                                                \n",
      "                                                                 \n",
      " dropout_1 (Dropout)         (None, 256)               0         \n",
      "                                                                 \n",
      " dense_7 (Dense)             (None, 1)                 257       \n",
      "                                                                 \n",
      "=================================================================\n",
      "Total params: 813,345\n",
      "Trainable params: 813,345\n",
      "Non-trainable params: 0\n",
      "_________________________________________________________________\n",
      "Epoch 1/200\n",
      "3563/3563 [==============================] - 29s 8ms/step - loss: -6386.1440 - accuracy: 0.2650 - val_loss: -17488.4648 - val_accuracy: 0.2508\n",
      "Epoch 2/200\n",
      "3563/3563 [==============================] - 27s 8ms/step - loss: -37510.1289 - accuracy: 0.2500 - val_loss: -60584.4648 - val_accuracy: 0.2508\n",
      "Epoch 3/200\n",
      "3563/3563 [==============================] - 28s 8ms/step - loss: -96370.9219 - accuracy: 0.2500 - val_loss: -136133.5312 - val_accuracy: 0.2508\n",
      "Epoch 4/200\n",
      "3563/3563 [==============================] - 27s 8ms/step - loss: -183247.8906 - accuracy: 0.2500 - val_loss: -236036.6562 - val_accuracy: 0.2508\n",
      "238/238 [==============================] - 1s 4ms/step - loss: -237790.6875 - accuracy: 0.2500\n",
      "Test acc: 0.250\n"
     ]
    }
   ],
   "source": [
    "vocab_size = 1000\n",
    "sequence_length = 52\n",
    "embed_dim = 256\n",
    "num_heads = 2\n",
    "dense_dim = 32\n",
    "\n",
    "inputs = keras.Input(shape=(None,), dtype=\"int64\")\n",
    "x = PositionalEmbedding(sequence_length, vocab_size, embed_dim)(inputs)\n",
    "x = TransformerEncoder(embed_dim, dense_dim, num_heads)(x)\n",
    "x = layers.GlobalMaxPooling1D()(x)\n",
    "x = layers.Dropout(0.5)(x)\n",
    "outputs = layers.Dense(4, activation=\"softmax\")(x)\n",
    "model = keras.Model(inputs, outputs)\n",
    "model.compile(optimizer=\"rmsprop\",\n",
    "              loss=\"SparseCategoricalCrossentropy\",\n",
    "              metrics=[\"accuracy\"])\n",
    "model.summary()\n",
    "\n",
    "callbacks = [\n",
    "    keras.callbacks.ModelCheckpoint(\"full_transformer_encoder.keras\",save_best_only=True)\n",
    "    ,tf.keras.callbacks.EarlyStopping(monitor='val_accuracy', patience=3)\n",
    "]\n",
    "model.fit(int_train_ds, validation_data=int_val_ds, epochs=200, callbacks=callbacks)\n",
    "model = keras.models.load_model(\n",
    "    \"full_transformer_encoder.keras\",\n",
    "    custom_objects={\"TransformerEncoder\": TransformerEncoder,\n",
    "                    \"PositionalEmbedding\": PositionalEmbedding})\n",
    "print(f\"Test acc: {model.evaluate(int_test_ds)[1]:.3f}\")"
   ]
  },
  {
   "cell_type": "markdown",
   "metadata": {
    "id": "1lyfC1axmJZu"
   },
   "source": [
    "## When To Use Sequence Models over Bag-of-Words Models"
   ]
  },
  {
   "cell_type": "markdown",
   "metadata": {
    "id": "Lh30ecbrmJZu"
   },
   "source": [
    "<img src=\"https://github.com/djp840/MSDS_458_Public/blob/master/images/SequenceVBagWords.png?raw=1\">"
   ]
  },
  {
   "cell_type": "code",
   "execution_count": 13,
   "metadata": {
    "id": "1lqhPc3ImJZu"
   },
   "outputs": [],
   "source": []
  }
 ],
 "metadata": {
  "accelerator": "GPU",
  "colab": {
   "collapsed_sections": [],
   "machine_shape": "hm",
   "name": "MSDS458_Assignment_03_part03_Transformer_20220426_DEV_v4.ipynb",
   "provenance": []
  },
  "kernelspec": {
   "display_name": "Python 3",
   "language": "python",
   "name": "python3"
  },
  "language_info": {
   "codemirror_mode": {
    "name": "ipython",
    "version": 3
   },
   "file_extension": ".py",
   "mimetype": "text/x-python",
   "name": "python",
   "nbconvert_exporter": "python",
   "pygments_lexer": "ipython3",
   "version": "3.8.10"
  }
 },
 "nbformat": 4,
 "nbformat_minor": 1
}
